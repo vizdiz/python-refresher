{
 "cells": [
  {
   "cell_type": "markdown",
   "metadata": {},
   "source": [
    "# Simulation"
   ]
  },
  {
   "cell_type": "code",
   "execution_count": null,
   "metadata": {},
   "outputs": [],
   "source": [
    "import numpy as np"
   ]
  },
  {
   "cell_type": "markdown",
   "metadata": {},
   "source": [
    "## Parameters"
   ]
  },
  {
   "cell_type": "code",
   "execution_count": null,
   "metadata": {},
   "outputs": [],
   "source": [
    "density_water = 1000  # kg/m^3\n",
    "density_object = 500  # kg/m^3\n",
    "object_volume = 0.1  # m^3\n",
    "g = 9.81  # m/s^2\n",
    "time_step = 0.01  # s\n",
    "time_max = 10  # s"
   ]
  },
  {
   "cell_type": "code",
   "execution_count": null,
   "metadata": {},
   "outputs": [],
   "source": [
    "time = 0  # s\n",
    "depth = 0  # m\n",
    "velocity = 0  # m/s\n",
    "acceleration = 0  # m/s^2\n",
    "buoyancy =   # N\n",
    "weight =   # N"
   ]
  },
  {
   "cell_type": "code",
   "execution_count": null,
   "metadata": {},
   "outputs": [],
   "source": [
    "# lists for plotting later\n",
    "time = np.arange(0, time_max, time_step)\n",
    "position = np.zeros_like(time)\n",
    "velocity = np.zeros_like(time)\n",
    "acceleration = np.zeros_like(time)"
   ]
  },
  {
   "cell_type": "code",
   "execution_count": null,
   "metadata": {},
   "outputs": [],
   "source": [
    "# simulation loop\n",
    "for i in range(1, len(time)):\n",
    "    # calculate the force on the object\n",
    "\n",
    "    # calculate acceleration\n",
    "\n",
    "    # calculate velocity\n",
    "\n",
    "    # calculate position\n",
    "    pass"
   ]
  },
  {
   "cell_type": "markdown",
   "metadata": {},
   "source": [
    "# Plot the results"
   ]
  },
  {
   "cell_type": "code",
   "execution_count": null,
   "metadata": {},
   "outputs": [],
   "source": [
    "import matplotlib.pyplot as plt"
   ]
  },
  {
   "cell_type": "code",
   "execution_count": null,
   "metadata": {},
   "outputs": [],
   "source": [
    "\n",
    "plt.plot(time, position, label=\"Position\")\n",
    "plt.plot(time, velocity, label=\"Velocity\")\n",
    "plt.plot(time, acceleration, label=\"Acceleration\")\n",
    "plt.xlabel(\"Time (s)\")\n",
    "plt.ylabel(\"Position (m), Velocity (m/s), Acceleration (m/s^2)\")\n",
    "plt.legend()\n",
    "plt.show()"
   ]
  }
 ],
 "metadata": {
  "kernelspec": {
   "display_name": "bwsi",
   "language": "python",
   "name": "python3"
  },
  "language_info": {
   "codemirror_mode": {
    "name": "ipython",
    "version": 3
   },
   "file_extension": ".py",
   "mimetype": "text/x-python",
   "name": "python",
   "nbconvert_exporter": "python",
   "pygments_lexer": "ipython3",
   "version": "3.11.3"
  },
  "orig_nbformat": 4
 },
 "nbformat": 4,
 "nbformat_minor": 2
}
